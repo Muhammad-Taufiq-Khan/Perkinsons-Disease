{
 "cells": [
  {
   "cell_type": "code",
   "execution_count": 1,
   "id": "b7f372a4-39da-4163-b743-7fd1d9d137af",
   "metadata": {},
   "outputs": [],
   "source": [
    "import pandas as pd,warnings\n",
    "warnings.filterwarnings('ignore')"
   ]
  },
  {
   "cell_type": "code",
   "execution_count": 2,
   "id": "044d0d3c-29cf-4981-a56d-67300cfa948c",
   "metadata": {},
   "outputs": [
    {
     "data": {
      "text/html": [
       "<div>\n",
       "<style scoped>\n",
       "    .dataframe tbody tr th:only-of-type {\n",
       "        vertical-align: middle;\n",
       "    }\n",
       "\n",
       "    .dataframe tbody tr th {\n",
       "        vertical-align: top;\n",
       "    }\n",
       "\n",
       "    .dataframe thead th {\n",
       "        text-align: right;\n",
       "    }\n",
       "</style>\n",
       "<table border=\"1\" class=\"dataframe\">\n",
       "  <thead>\n",
       "    <tr style=\"text-align: right;\">\n",
       "      <th></th>\n",
       "      <th>Class</th>\n",
       "      <th>Age  (years)</th>\n",
       "      <th>Gender</th>\n",
       "      <th>Positive  history  of  Parkinson  disease  in  family</th>\n",
       "      <th>Age  of  disease  onset  (years)</th>\n",
       "      <th>Duration  of  disease  from  first  symptoms  (years)</th>\n",
       "      <th>Antidepressant  therapy</th>\n",
       "      <th>Antiparkinsonian  medication</th>\n",
       "      <th>Antipsychotic  medication</th>\n",
       "      <th>Benzodiazepine  medication</th>\n",
       "      <th>...</th>\n",
       "      <th>Acceleration  of  speech  timing  (-/min2).1</th>\n",
       "      <th>Duration  of  pause  intervals  (ms).1</th>\n",
       "      <th>Duration  of  voiced  intervals  (ms).1</th>\n",
       "      <th>Gaping  in-between  voiced  Intervals  (-/min)</th>\n",
       "      <th>Duration  of  unvoiced  stops  (ms).1</th>\n",
       "      <th>Decay  of  unvoiced  fricatives  (ÃÂÃÂ¢ÃÂÃÂÃÂÃÂ°/min).1</th>\n",
       "      <th>Relative  loudness  of  respiration  (dB).1</th>\n",
       "      <th>Pause  intervals  per  respiration  (-).1</th>\n",
       "      <th>Rate  of  speech  respiration  (-/min).1</th>\n",
       "      <th>Latency  of  respiratory  exchange  (ms).1</th>\n",
       "    </tr>\n",
       "  </thead>\n",
       "  <tbody>\n",
       "    <tr>\n",
       "      <th>0</th>\n",
       "      <td>1</td>\n",
       "      <td>58</td>\n",
       "      <td>1</td>\n",
       "      <td>0</td>\n",
       "      <td>56</td>\n",
       "      <td>2.0</td>\n",
       "      <td>0</td>\n",
       "      <td>0</td>\n",
       "      <td>0</td>\n",
       "      <td>0</td>\n",
       "      <td>...</td>\n",
       "      <td>-2.82</td>\n",
       "      <td>158</td>\n",
       "      <td>318</td>\n",
       "      <td>49.01</td>\n",
       "      <td>22.37</td>\n",
       "      <td>0.588</td>\n",
       "      <td>-19.77</td>\n",
       "      <td>6.0</td>\n",
       "      <td>13.81</td>\n",
       "      <td>127</td>\n",
       "    </tr>\n",
       "    <tr>\n",
       "      <th>1</th>\n",
       "      <td>1</td>\n",
       "      <td>68</td>\n",
       "      <td>1</td>\n",
       "      <td>0</td>\n",
       "      <td>67</td>\n",
       "      <td>1.0</td>\n",
       "      <td>0</td>\n",
       "      <td>0</td>\n",
       "      <td>0</td>\n",
       "      <td>0</td>\n",
       "      <td>...</td>\n",
       "      <td>8.20</td>\n",
       "      <td>295</td>\n",
       "      <td>264</td>\n",
       "      <td>40.56</td>\n",
       "      <td>26.88</td>\n",
       "      <td>-0.825</td>\n",
       "      <td>-23.26</td>\n",
       "      <td>4.0</td>\n",
       "      <td>21.77</td>\n",
       "      <td>313</td>\n",
       "    </tr>\n",
       "    <tr>\n",
       "      <th>2</th>\n",
       "      <td>1</td>\n",
       "      <td>68</td>\n",
       "      <td>0</td>\n",
       "      <td>0</td>\n",
       "      <td>67</td>\n",
       "      <td>1.0</td>\n",
       "      <td>0</td>\n",
       "      <td>0</td>\n",
       "      <td>0</td>\n",
       "      <td>0</td>\n",
       "      <td>...</td>\n",
       "      <td>4.71</td>\n",
       "      <td>280</td>\n",
       "      <td>317</td>\n",
       "      <td>48.97</td>\n",
       "      <td>22.37</td>\n",
       "      <td>-0.955</td>\n",
       "      <td>-13.29</td>\n",
       "      <td>4.0</td>\n",
       "      <td>22.52</td>\n",
       "      <td>201</td>\n",
       "    </tr>\n",
       "    <tr>\n",
       "      <th>3</th>\n",
       "      <td>1</td>\n",
       "      <td>75</td>\n",
       "      <td>0</td>\n",
       "      <td>0</td>\n",
       "      <td>73</td>\n",
       "      <td>2.0</td>\n",
       "      <td>0</td>\n",
       "      <td>0</td>\n",
       "      <td>0</td>\n",
       "      <td>0</td>\n",
       "      <td>...</td>\n",
       "      <td>-9.09</td>\n",
       "      <td>397</td>\n",
       "      <td>800</td>\n",
       "      <td>18.69</td>\n",
       "      <td>49.37</td>\n",
       "      <td>0.791</td>\n",
       "      <td>-25.08</td>\n",
       "      <td>2.0</td>\n",
       "      <td>14.37</td>\n",
       "      <td>151</td>\n",
       "    </tr>\n",
       "    <tr>\n",
       "      <th>4</th>\n",
       "      <td>1</td>\n",
       "      <td>61</td>\n",
       "      <td>0</td>\n",
       "      <td>1</td>\n",
       "      <td>60</td>\n",
       "      <td>0.7</td>\n",
       "      <td>0</td>\n",
       "      <td>0</td>\n",
       "      <td>0</td>\n",
       "      <td>0</td>\n",
       "      <td>...</td>\n",
       "      <td>11.77</td>\n",
       "      <td>206</td>\n",
       "      <td>480</td>\n",
       "      <td>33.54</td>\n",
       "      <td>26.87</td>\n",
       "      <td>0.075</td>\n",
       "      <td>-22.32</td>\n",
       "      <td>5.0</td>\n",
       "      <td>14.61</td>\n",
       "      <td>151</td>\n",
       "    </tr>\n",
       "  </tbody>\n",
       "</table>\n",
       "<p>5 rows × 65 columns</p>\n",
       "</div>"
      ],
      "text/plain": [
       "   Class  Age  (years)  Gender  \\\n",
       "0      1            58       1   \n",
       "1      1            68       1   \n",
       "2      1            68       0   \n",
       "3      1            75       0   \n",
       "4      1            61       0   \n",
       "\n",
       "   Positive  history  of  Parkinson  disease  in  family  \\\n",
       "0                                                  0       \n",
       "1                                                  0       \n",
       "2                                                  0       \n",
       "3                                                  0       \n",
       "4                                                  1       \n",
       "\n",
       "   Age  of  disease  onset  (years)  \\\n",
       "0                                56   \n",
       "1                                67   \n",
       "2                                67   \n",
       "3                                73   \n",
       "4                                60   \n",
       "\n",
       "   Duration  of  disease  from  first  symptoms  (years)  \\\n",
       "0                                                2.0       \n",
       "1                                                1.0       \n",
       "2                                                1.0       \n",
       "3                                                2.0       \n",
       "4                                                0.7       \n",
       "\n",
       "   Antidepressant  therapy  Antiparkinsonian  medication  \\\n",
       "0                        0                             0   \n",
       "1                        0                             0   \n",
       "2                        0                             0   \n",
       "3                        0                             0   \n",
       "4                        0                             0   \n",
       "\n",
       "   Antipsychotic  medication  Benzodiazepine  medication  ...  \\\n",
       "0                          0                           0  ...   \n",
       "1                          0                           0  ...   \n",
       "2                          0                           0  ...   \n",
       "3                          0                           0  ...   \n",
       "4                          0                           0  ...   \n",
       "\n",
       "   Acceleration  of  speech  timing  (-/min2).1  \\\n",
       "0                                         -2.82   \n",
       "1                                          8.20   \n",
       "2                                          4.71   \n",
       "3                                         -9.09   \n",
       "4                                         11.77   \n",
       "\n",
       "   Duration  of  pause  intervals  (ms).1  \\\n",
       "0                                     158   \n",
       "1                                     295   \n",
       "2                                     280   \n",
       "3                                     397   \n",
       "4                                     206   \n",
       "\n",
       "   Duration  of  voiced  intervals  (ms).1  \\\n",
       "0                                      318   \n",
       "1                                      264   \n",
       "2                                      317   \n",
       "3                                      800   \n",
       "4                                      480   \n",
       "\n",
       "   Gaping  in-between  voiced  Intervals  (-/min)  \\\n",
       "0                                           49.01   \n",
       "1                                           40.56   \n",
       "2                                           48.97   \n",
       "3                                           18.69   \n",
       "4                                           33.54   \n",
       "\n",
       "   Duration  of  unvoiced  stops  (ms).1  \\\n",
       "0                                  22.37   \n",
       "1                                  26.88   \n",
       "2                                  22.37   \n",
       "3                                  49.37   \n",
       "4                                  26.87   \n",
       "\n",
       "   Decay  of  unvoiced  fricatives  (ÃÂÃÂ¢ÃÂÃÂÃÂÃÂ°/min).1  \\\n",
       "0                                              0.588                   \n",
       "1                                             -0.825                   \n",
       "2                                             -0.955                   \n",
       "3                                              0.791                   \n",
       "4                                              0.075                   \n",
       "\n",
       "   Relative  loudness  of  respiration  (dB).1  \\\n",
       "0                                       -19.77   \n",
       "1                                       -23.26   \n",
       "2                                       -13.29   \n",
       "3                                       -25.08   \n",
       "4                                       -22.32   \n",
       "\n",
       "   Pause  intervals  per  respiration  (-).1  \\\n",
       "0                                        6.0   \n",
       "1                                        4.0   \n",
       "2                                        4.0   \n",
       "3                                        2.0   \n",
       "4                                        5.0   \n",
       "\n",
       "   Rate  of  speech  respiration  (-/min).1  \\\n",
       "0                                     13.81   \n",
       "1                                     21.77   \n",
       "2                                     22.52   \n",
       "3                                     14.37   \n",
       "4                                     14.61   \n",
       "\n",
       "   Latency  of  respiratory  exchange  (ms).1  \n",
       "0                                         127  \n",
       "1                                         313  \n",
       "2                                         201  \n",
       "3                                         151  \n",
       "4                                         151  \n",
       "\n",
       "[5 rows x 65 columns]"
      ]
     },
     "execution_count": 2,
     "metadata": {},
     "output_type": "execute_result"
    }
   ],
   "source": [
    "df = pd.read_csv('PDvsRBD.csv');df.head()"
   ]
  },
  {
   "cell_type": "code",
   "execution_count": 3,
   "id": "11a28430-f14d-465d-907b-8a8579d65dd6",
   "metadata": {},
   "outputs": [
    {
     "data": {
      "text/plain": [
       "(80, 65)"
      ]
     },
     "execution_count": 3,
     "metadata": {},
     "output_type": "execute_result"
    }
   ],
   "source": [
    "df.shape"
   ]
  },
  {
   "cell_type": "code",
   "execution_count": 4,
   "id": "cea66193-b0dd-4379-866d-3e913284e250",
   "metadata": {},
   "outputs": [],
   "source": [
    "import numpy as np"
   ]
  },
  {
   "cell_type": "code",
   "execution_count": 5,
   "id": "c6519320-4cd1-4ec2-b437-8b2f97693584",
   "metadata": {},
   "outputs": [],
   "source": [
    "from sklearn.model_selection import train_test_split\n",
    "xtrain, ytrain, xtest, ytest = train_test_split(df.drop(\"Class\", axis =1), df[\"Class\"], test_size = 0.20, random_state=19)"
   ]
  },
  {
   "cell_type": "code",
   "execution_count": 6,
   "id": "a3cb41e0-f971-468c-ba85-06cfd80da3fd",
   "metadata": {},
   "outputs": [
    {
     "name": "stdout",
     "output_type": "stream",
     "text": [
      "(64, 64)\n",
      "(16, 64)\n",
      "(64,)\n",
      "(16,)\n"
     ]
    }
   ],
   "source": [
    "print(xtrain.shape)\n",
    "print(ytrain.shape)\n",
    "print(xtest.shape)\n",
    "print(ytest.shape)"
   ]
  },
  {
   "cell_type": "code",
   "execution_count": 7,
   "id": "b08d4290-db78-4520-ac01-7dbb6f74480b",
   "metadata": {},
   "outputs": [],
   "source": [
    "from sklearn.preprocessing import MinMaxScaler\n",
    "xtrain = MinMaxScaler().fit_transform(xtrain)\n",
    "ytrain = MinMaxScaler().fit_transform(ytrain)"
   ]
  },
  {
   "cell_type": "code",
   "execution_count": 8,
   "id": "b41947d1-e04b-445c-a7d0-f9137feb570e",
   "metadata": {},
   "outputs": [],
   "source": [
    "xtrain = np.array(xtrain)\n",
    "ytrain = np.array(ytrain)"
   ]
  },
  {
   "cell_type": "code",
   "execution_count": 9,
   "id": "af7d343c-eee6-458c-bd7b-4771a1baa1ff",
   "metadata": {},
   "outputs": [
    {
     "data": {
      "text/plain": [
       "(16,)"
      ]
     },
     "execution_count": 9,
     "metadata": {},
     "output_type": "execute_result"
    }
   ],
   "source": [
    "ytest.shape"
   ]
  },
  {
   "cell_type": "code",
   "execution_count": 10,
   "id": "7bf6be72-5290-4112-aec5-7e2b8955d185",
   "metadata": {},
   "outputs": [],
   "source": [
    "# features = df.copy()\n",
    "# labels = features.pop('Class')"
   ]
  },
  {
   "cell_type": "code",
   "execution_count": 11,
   "id": "5471f78c-d815-41df-ba7e-bd9b1de4b0a3",
   "metadata": {},
   "outputs": [],
   "source": [
    "# print(features.shape)\n",
    "# print(labels.shape)"
   ]
  },
  {
   "cell_type": "code",
   "execution_count": 12,
   "id": "449391a0-23ea-4e64-b241-0c1911927513",
   "metadata": {},
   "outputs": [],
   "source": [
    "# features = np.array(features)\n",
    "# features"
   ]
  },
  {
   "cell_type": "code",
   "execution_count": 13,
   "id": "aad65fb3-fd0a-4e80-8436-5dc17ca440cd",
   "metadata": {},
   "outputs": [],
   "source": [
    "from tensorflow.keras.layers import Dense,Flatten,Conv1D,LSTM,MaxPooling1D,Dropout\n",
    "from tensorflow.keras.models import Sequential\n",
    "import tensorflow as tf"
   ]
  },
  {
   "cell_type": "code",
   "execution_count": 14,
   "id": "8f5ec627-a514-46de-ad2e-36a4b5586e3d",
   "metadata": {},
   "outputs": [],
   "source": [
    "batch_size=32\n",
    "epochs=5\n",
    "    \n",
    "model = Sequential()\n",
    "model.add(Dropout(0.2))\n",
    "model.add(Dense(80,activation='tanh'))\n",
    "model.add(Dense(60,activation='relu'))\n",
    "model.add(Dense(40,activation='relu'))\n",
    "model.add(Dense(10,activation='relu'))\n",
    "model.add(Dense(1,activation='sigmoid'))"
   ]
  },
  {
   "cell_type": "code",
   "execution_count": 15,
   "id": "5d562020-84c5-4758-b499-183de20f9e27",
   "metadata": {},
   "outputs": [],
   "source": [
    "from tensorflow.keras import optimizers"
   ]
  },
  {
   "cell_type": "code",
   "execution_count": 16,
   "id": "e49a8461-c972-4fa1-ac4d-cf9efe350170",
   "metadata": {},
   "outputs": [],
   "source": [
    "model.compile(optimizer=optimizers.Adam(), loss='binary_crossentropy',metrics=['accuracy'])"
   ]
  },
  {
   "cell_type": "code",
   "execution_count": 17,
   "id": "13ea3812-1f79-4150-b6f7-ec3f53ea528d",
   "metadata": {},
   "outputs": [
    {
     "name": "stdout",
     "output_type": "stream",
     "text": [
      "Epoch 1/10\n",
      "2/2 [==============================] - 0s 498us/step - loss: 0.6914 - accuracy: 0.4688\n",
      "Epoch 2/10\n",
      "2/2 [==============================] - 0s 1ms/step - loss: 0.6616 - accuracy: 0.6250\n",
      "Epoch 3/10\n",
      "2/2 [==============================] - 0s 998us/step - loss: 0.6329 - accuracy: 0.6875\n",
      "Epoch 4/10\n",
      "2/2 [==============================] - 0s 999us/step - loss: 0.6002 - accuracy: 0.7031\n",
      "Epoch 5/10\n",
      "2/2 [==============================] - 0s 1ms/step - loss: 0.5781 - accuracy: 0.7500\n",
      "Epoch 6/10\n",
      "2/2 [==============================] - 0s 1ms/step - loss: 0.5634 - accuracy: 0.7500\n",
      "Epoch 7/10\n",
      "2/2 [==============================] - 0s 997us/step - loss: 0.5162 - accuracy: 0.8594\n",
      "Epoch 8/10\n",
      "2/2 [==============================] - 0s 498us/step - loss: 0.4881 - accuracy: 0.8438\n",
      "Epoch 9/10\n",
      "2/2 [==============================] - 0s 1ms/step - loss: 0.4380 - accuracy: 0.8906\n",
      "Epoch 10/10\n",
      "2/2 [==============================] - 0s 2ms/step - loss: 0.3767 - accuracy: 0.9062\n"
     ]
    },
    {
     "data": {
      "text/plain": [
       "<tensorflow.python.keras.callbacks.History at 0x23ac9432d60>"
      ]
     },
     "execution_count": 17,
     "metadata": {},
     "output_type": "execute_result"
    }
   ],
   "source": [
    "model.fit(xtrain,xtest,\n",
    "       epochs=10)"
   ]
  },
  {
   "cell_type": "code",
   "execution_count": 18,
   "id": "10d07de7-4e01-4485-902b-a040234ef62f",
   "metadata": {},
   "outputs": [
    {
     "name": "stdout",
     "output_type": "stream",
     "text": [
      "loss 0.4138745367527008\n",
      "accuracy 0.9375\n"
     ]
    }
   ],
   "source": [
    "score = model.evaluate(ytrain,ytest,verbose=0)\n",
    "print('loss',score[0])\n",
    "print('accuracy',score[1])"
   ]
  },
  {
   "cell_type": "code",
   "execution_count": null,
   "id": "6c6e83ec-3735-4d79-a263-061c99ee52a1",
   "metadata": {},
   "outputs": [],
   "source": []
  }
 ],
 "metadata": {
  "kernelspec": {
   "display_name": "Python 3",
   "language": "python",
   "name": "python3"
  },
  "language_info": {
   "codemirror_mode": {
    "name": "ipython",
    "version": 3
   },
   "file_extension": ".py",
   "mimetype": "text/x-python",
   "name": "python",
   "nbconvert_exporter": "python",
   "pygments_lexer": "ipython3",
   "version": "3.8.8"
  }
 },
 "nbformat": 4,
 "nbformat_minor": 5
}
