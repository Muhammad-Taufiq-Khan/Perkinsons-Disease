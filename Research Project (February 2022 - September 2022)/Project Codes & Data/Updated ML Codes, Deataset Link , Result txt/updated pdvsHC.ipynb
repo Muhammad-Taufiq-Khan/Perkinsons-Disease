{
 "cells": [
  {
   "cell_type": "code",
   "execution_count": 1,
   "id": "5e3672fc-4a2f-4e5e-b17a-2ccf8a98e061",
   "metadata": {},
   "outputs": [],
   "source": [
    "PDvsHC = \"https://raw.githubusercontent.com/Muhammad-Taufiq-Khan/Perkinsons-Disease/main/Research%20Project%20(February%202022%20-%20September%202022)/Project%20Codes%20%26%20Data/Early%20Biomarkers%20of%20Parkinson's%20Disease/ModifiedSpeechPDvsHC.csv\""
   ]
  },
  {
   "cell_type": "code",
   "execution_count": 2,
   "id": "ba8fa72c-8be2-47e0-a380-ebd6dc1d9816",
   "metadata": {},
   "outputs": [],
   "source": [
    "import pandas as pd\n",
    "import numpy as np\n",
    "import warnings\n",
    "warnings.filterwarnings('ignore')"
   ]
  },
  {
   "cell_type": "code",
   "execution_count": 3,
   "id": "956fa498-7c33-4e32-b34a-4225e976402f",
   "metadata": {},
   "outputs": [
    {
     "data": {
      "text/html": [
       "<div>\n",
       "<style scoped>\n",
       "    .dataframe tbody tr th:only-of-type {\n",
       "        vertical-align: middle;\n",
       "    }\n",
       "\n",
       "    .dataframe tbody tr th {\n",
       "        vertical-align: top;\n",
       "    }\n",
       "\n",
       "    .dataframe thead th {\n",
       "        text-align: right;\n",
       "    }\n",
       "</style>\n",
       "<table border=\"1\" class=\"dataframe\">\n",
       "  <thead>\n",
       "    <tr style=\"text-align: right;\">\n",
       "      <th></th>\n",
       "      <th>Class</th>\n",
       "      <th>Entropy  of  speech  timing  (-)</th>\n",
       "      <th>Rate  of  speech  timing  (-/min)</th>\n",
       "      <th>Acceleration  of  speech  timing  (-/min2)</th>\n",
       "      <th>Duration  of  pause  intervals  (ms)</th>\n",
       "      <th>Duration  of  voiced  intervals  (ms)</th>\n",
       "      <th>Gaping  in-between  voiced  intervals  (-/min)</th>\n",
       "      <th>Duration  of  unvoiced  stops  (ms)</th>\n",
       "      <th>Decay  of  unvoiced  fricatives  (ÃÂÃÂ¢ÃÂÃÂÃÂÃÂ°/min)</th>\n",
       "      <th>Relative  loudness  of  respiration  (dB)</th>\n",
       "      <th>...</th>\n",
       "      <th>Acceleration  of  speech  timing  (-/min2).1</th>\n",
       "      <th>Duration  of  pause  intervals  (ms).1</th>\n",
       "      <th>Duration  of  voiced  intervals  (ms).1</th>\n",
       "      <th>Gaping  in-between  voiced  Intervals  (-/min)</th>\n",
       "      <th>Duration  of  unvoiced  stops  (ms).1</th>\n",
       "      <th>Decay  of  unvoiced  fricatives  (ÃÂÃÂ¢ÃÂÃÂÃÂÃÂ°/min).1</th>\n",
       "      <th>Relative  loudness  of  respiration  (dB).1</th>\n",
       "      <th>Pause  intervals  per  respiration  (-).1</th>\n",
       "      <th>Rate  of  speech  respiration  (-/min).1</th>\n",
       "      <th>Latency  of  respiratory  exchange  (ms).1</th>\n",
       "    </tr>\n",
       "  </thead>\n",
       "  <tbody>\n",
       "    <tr>\n",
       "      <th>0</th>\n",
       "      <td>1</td>\n",
       "      <td>1.564</td>\n",
       "      <td>354</td>\n",
       "      <td>6.05</td>\n",
       "      <td>146</td>\n",
       "      <td>264</td>\n",
       "      <td>58.65</td>\n",
       "      <td>31.38</td>\n",
       "      <td>-2.101</td>\n",
       "      <td>-22.47</td>\n",
       "      <td>...</td>\n",
       "      <td>-2.82</td>\n",
       "      <td>158</td>\n",
       "      <td>318</td>\n",
       "      <td>49.01</td>\n",
       "      <td>22.37</td>\n",
       "      <td>0.588</td>\n",
       "      <td>-19.77</td>\n",
       "      <td>6.0</td>\n",
       "      <td>13.81</td>\n",
       "      <td>127</td>\n",
       "    </tr>\n",
       "    <tr>\n",
       "      <th>1</th>\n",
       "      <td>1</td>\n",
       "      <td>1.564</td>\n",
       "      <td>340</td>\n",
       "      <td>27.52</td>\n",
       "      <td>173</td>\n",
       "      <td>253</td>\n",
       "      <td>48.26</td>\n",
       "      <td>22.38</td>\n",
       "      <td>-1.745</td>\n",
       "      <td>-24.59</td>\n",
       "      <td>...</td>\n",
       "      <td>8.20</td>\n",
       "      <td>295</td>\n",
       "      <td>264</td>\n",
       "      <td>40.56</td>\n",
       "      <td>26.88</td>\n",
       "      <td>-0.825</td>\n",
       "      <td>-23.26</td>\n",
       "      <td>4.0</td>\n",
       "      <td>21.77</td>\n",
       "      <td>313</td>\n",
       "    </tr>\n",
       "    <tr>\n",
       "      <th>2</th>\n",
       "      <td>1</td>\n",
       "      <td>1.550</td>\n",
       "      <td>211</td>\n",
       "      <td>11.97</td>\n",
       "      <td>377</td>\n",
       "      <td>322</td>\n",
       "      <td>47.54</td>\n",
       "      <td>38.12</td>\n",
       "      <td>2.657</td>\n",
       "      <td>-16.89</td>\n",
       "      <td>...</td>\n",
       "      <td>4.71</td>\n",
       "      <td>280</td>\n",
       "      <td>317</td>\n",
       "      <td>48.97</td>\n",
       "      <td>22.37</td>\n",
       "      <td>-0.955</td>\n",
       "      <td>-13.29</td>\n",
       "      <td>4.0</td>\n",
       "      <td>22.52</td>\n",
       "      <td>201</td>\n",
       "    </tr>\n",
       "    <tr>\n",
       "      <th>3</th>\n",
       "      <td>1</td>\n",
       "      <td>1.519</td>\n",
       "      <td>140</td>\n",
       "      <td>-2.49</td>\n",
       "      <td>360</td>\n",
       "      <td>663</td>\n",
       "      <td>13.72</td>\n",
       "      <td>44.88</td>\n",
       "      <td>-0.934</td>\n",
       "      <td>-25.54</td>\n",
       "      <td>...</td>\n",
       "      <td>-9.09</td>\n",
       "      <td>397</td>\n",
       "      <td>800</td>\n",
       "      <td>18.69</td>\n",
       "      <td>49.37</td>\n",
       "      <td>0.791</td>\n",
       "      <td>-25.08</td>\n",
       "      <td>2.0</td>\n",
       "      <td>14.37</td>\n",
       "      <td>151</td>\n",
       "    </tr>\n",
       "    <tr>\n",
       "      <th>4</th>\n",
       "      <td>1</td>\n",
       "      <td>1.543</td>\n",
       "      <td>269</td>\n",
       "      <td>6.72</td>\n",
       "      <td>211</td>\n",
       "      <td>328</td>\n",
       "      <td>42.90</td>\n",
       "      <td>47.12</td>\n",
       "      <td>-0.973</td>\n",
       "      <td>-22.61</td>\n",
       "      <td>...</td>\n",
       "      <td>11.77</td>\n",
       "      <td>206</td>\n",
       "      <td>480</td>\n",
       "      <td>33.54</td>\n",
       "      <td>26.87</td>\n",
       "      <td>0.075</td>\n",
       "      <td>-22.32</td>\n",
       "      <td>5.0</td>\n",
       "      <td>14.61</td>\n",
       "      <td>151</td>\n",
       "    </tr>\n",
       "  </tbody>\n",
       "</table>\n",
       "<p>5 rows × 25 columns</p>\n",
       "</div>"
      ],
      "text/plain": [
       "   Class  Entropy  of  speech  timing  (-)  Rate  of  speech  timing  (-/min)  \\\n",
       "0      1                             1.564                                354   \n",
       "1      1                             1.564                                340   \n",
       "2      1                             1.550                                211   \n",
       "3      1                             1.519                                140   \n",
       "4      1                             1.543                                269   \n",
       "\n",
       "   Acceleration  of  speech  timing  (-/min2)  \\\n",
       "0                                        6.05   \n",
       "1                                       27.52   \n",
       "2                                       11.97   \n",
       "3                                       -2.49   \n",
       "4                                        6.72   \n",
       "\n",
       "   Duration  of  pause  intervals  (ms)  \\\n",
       "0                                   146   \n",
       "1                                   173   \n",
       "2                                   377   \n",
       "3                                   360   \n",
       "4                                   211   \n",
       "\n",
       "   Duration  of  voiced  intervals  (ms)  \\\n",
       "0                                    264   \n",
       "1                                    253   \n",
       "2                                    322   \n",
       "3                                    663   \n",
       "4                                    328   \n",
       "\n",
       "   Gaping  in-between  voiced  intervals  (-/min)  \\\n",
       "0                                           58.65   \n",
       "1                                           48.26   \n",
       "2                                           47.54   \n",
       "3                                           13.72   \n",
       "4                                           42.90   \n",
       "\n",
       "   Duration  of  unvoiced  stops  (ms)  \\\n",
       "0                                31.38   \n",
       "1                                22.38   \n",
       "2                                38.12   \n",
       "3                                44.88   \n",
       "4                                47.12   \n",
       "\n",
       "   Decay  of  unvoiced  fricatives  (ÃÂÃÂ¢ÃÂÃÂÃÂÃÂ°/min)  \\\n",
       "0                                             -2.101                 \n",
       "1                                             -1.745                 \n",
       "2                                              2.657                 \n",
       "3                                             -0.934                 \n",
       "4                                             -0.973                 \n",
       "\n",
       "   Relative  loudness  of  respiration  (dB)  ...  \\\n",
       "0                                     -22.47  ...   \n",
       "1                                     -24.59  ...   \n",
       "2                                     -16.89  ...   \n",
       "3                                     -25.54  ...   \n",
       "4                                     -22.61  ...   \n",
       "\n",
       "   Acceleration  of  speech  timing  (-/min2).1  \\\n",
       "0                                         -2.82   \n",
       "1                                          8.20   \n",
       "2                                          4.71   \n",
       "3                                         -9.09   \n",
       "4                                         11.77   \n",
       "\n",
       "   Duration  of  pause  intervals  (ms).1  \\\n",
       "0                                     158   \n",
       "1                                     295   \n",
       "2                                     280   \n",
       "3                                     397   \n",
       "4                                     206   \n",
       "\n",
       "   Duration  of  voiced  intervals  (ms).1  \\\n",
       "0                                      318   \n",
       "1                                      264   \n",
       "2                                      317   \n",
       "3                                      800   \n",
       "4                                      480   \n",
       "\n",
       "   Gaping  in-between  voiced  Intervals  (-/min)  \\\n",
       "0                                           49.01   \n",
       "1                                           40.56   \n",
       "2                                           48.97   \n",
       "3                                           18.69   \n",
       "4                                           33.54   \n",
       "\n",
       "   Duration  of  unvoiced  stops  (ms).1  \\\n",
       "0                                  22.37   \n",
       "1                                  26.88   \n",
       "2                                  22.37   \n",
       "3                                  49.37   \n",
       "4                                  26.87   \n",
       "\n",
       "   Decay  of  unvoiced  fricatives  (ÃÂÃÂ¢ÃÂÃÂÃÂÃÂ°/min).1  \\\n",
       "0                                              0.588                   \n",
       "1                                             -0.825                   \n",
       "2                                             -0.955                   \n",
       "3                                              0.791                   \n",
       "4                                              0.075                   \n",
       "\n",
       "   Relative  loudness  of  respiration  (dB).1  \\\n",
       "0                                       -19.77   \n",
       "1                                       -23.26   \n",
       "2                                       -13.29   \n",
       "3                                       -25.08   \n",
       "4                                       -22.32   \n",
       "\n",
       "   Pause  intervals  per  respiration  (-).1  \\\n",
       "0                                        6.0   \n",
       "1                                        4.0   \n",
       "2                                        4.0   \n",
       "3                                        2.0   \n",
       "4                                        5.0   \n",
       "\n",
       "   Rate  of  speech  respiration  (-/min).1  \\\n",
       "0                                     13.81   \n",
       "1                                     21.77   \n",
       "2                                     22.52   \n",
       "3                                     14.37   \n",
       "4                                     14.61   \n",
       "\n",
       "   Latency  of  respiratory  exchange  (ms).1  \n",
       "0                                         127  \n",
       "1                                         313  \n",
       "2                                         201  \n",
       "3                                         151  \n",
       "4                                         151  \n",
       "\n",
       "[5 rows x 25 columns]"
      ]
     },
     "execution_count": 3,
     "metadata": {},
     "output_type": "execute_result"
    }
   ],
   "source": [
    "df = pd.read_csv(PDvsHC);df.head()"
   ]
  },
  {
   "cell_type": "code",
   "execution_count": 4,
   "id": "504208aa-8103-4bdc-bbb1-3b60c280b9ab",
   "metadata": {},
   "outputs": [],
   "source": [
    "x = df.drop('Class',axis=1)\n",
    "y = df.Class"
   ]
  },
  {
   "cell_type": "code",
   "execution_count": 5,
   "id": "8df92384-31a6-49ef-9387-351e3dc54428",
   "metadata": {},
   "outputs": [],
   "source": [
    "x = x.astype('float32')"
   ]
  },
  {
   "cell_type": "code",
   "execution_count": 6,
   "id": "fefd36b1-8ec1-4833-82a5-9fd1ea54192e",
   "metadata": {},
   "outputs": [],
   "source": [
    "from sklearn.model_selection import train_test_split\n",
    "xtrain,xtest,ytrain,ytest = train_test_split(x,y, train_size=0.8,random_state=0)"
   ]
  },
  {
   "cell_type": "code",
   "execution_count": 7,
   "id": "20305573-4a0c-4037-b5d8-ba77d16a76cd",
   "metadata": {},
   "outputs": [
    {
     "name": "stdout",
     "output_type": "stream",
     "text": [
      "(16, 24)\n"
     ]
    }
   ],
   "source": [
    "print(xtest.shape)"
   ]
  },
  {
   "cell_type": "code",
   "execution_count": 8,
   "id": "0e181de9-c40f-416b-9f7e-2c86f6f8a692",
   "metadata": {},
   "outputs": [],
   "source": [
    "def Standard(xtrain,xtest):\n",
    "    from sklearn.preprocessing import StandardScaler\n",
    "    stdS = StandardScaler()\n",
    "    xtrain = stdS.fit_transform(xtrain)\n",
    "    xtest = stdS.transform(xtest)\n",
    "    # print(f\"Original Test set data ------> {}, Class\")\n",
    "    return xtrain, xtest"
   ]
  },
  {
   "cell_type": "code",
   "execution_count": 9,
   "id": "0a96dc2c-9950-43ca-9aee-06fadadfe71f",
   "metadata": {},
   "outputs": [],
   "source": [
    "def LOF(xtrain, ytrain):\n",
    "    from sklearn.neighbors import LocalOutlierFactor\n",
    "    lof = LocalOutlierFactor(n_neighbors=15, novelty=False)\n",
    "    # print(f\"Original data are----> Features:{xtrain.shape}, Label:{ytrain.shape}\")\n",
    "    yhat = lof.fit_predict(xtrain)\n",
    "    mask = yhat != -1\n",
    "    xtrain, ytrain = xtrain[mask, :], ytrain[mask]\n",
    "    # print(f\"Outlierless data are----> Features:{xtrain.shape}, Label:{ytrain.shape}\")\n",
    "    return xtrain, ytrain"
   ]
  },
  {
   "cell_type": "code",
   "execution_count": 10,
   "id": "8d894fcb-3b5a-479d-ac44-93063bd55e44",
   "metadata": {},
   "outputs": [],
   "source": [
    "def OverSample (xtrain, ytrain):\n",
    "    from imblearn.over_sampling import SMOTE\n",
    "    oversample = SMOTE()\n",
    "    xtrain, ytrain = oversample.fit_resample(xtrain, ytrain)\n",
    "    # print(f\"Shape after oversampling: {xtrain.shape, ytrain.shape}\")\n",
    "    return xtrain, ytrain"
   ]
  },
  {
   "cell_type": "code",
   "execution_count": 11,
   "id": "c0badaec-a149-443e-9cca-64c6e3aa4495",
   "metadata": {},
   "outputs": [],
   "source": [
    "xtrain,xtest = Standard(xtrain,xtest)\n",
    "xtrain,ytrain=LOF(xtrain,ytrain)\n",
    "xtrain,ytrain = OverSample(xtrain,ytrain)"
   ]
  },
  {
   "cell_type": "code",
   "execution_count": 12,
   "id": "272790b3-9174-4739-96d3-fa28c75cc169",
   "metadata": {},
   "outputs": [],
   "source": [
    "# X_train, y_train = np.array(xtrain), np.array(ytrain)"
   ]
  },
  {
   "cell_type": "code",
   "execution_count": 13,
   "id": "ab0c4e39-df0c-40e7-9638-4a36d62eb2f8",
   "metadata": {},
   "outputs": [],
   "source": [
    "X_train = np.reshape(xtrain, (xtrain.shape[0], xtrain.shape[1], 1))\n",
    "xtest = np.reshape(xtest, (xtest.shape[0], xtest.shape[1], 1))"
   ]
  },
  {
   "cell_type": "code",
   "execution_count": 14,
   "id": "3ee1f526-64ec-4fea-a24e-c9836aa53116",
   "metadata": {},
   "outputs": [
    {
     "data": {
      "text/plain": [
       "(16, 24, 1)"
      ]
     },
     "execution_count": 14,
     "metadata": {},
     "output_type": "execute_result"
    }
   ],
   "source": [
    "X_train.shape\n",
    "xtest.shape"
   ]
  },
  {
   "cell_type": "code",
   "execution_count": 15,
   "id": "2e37cd58-34d9-4647-9349-0e1366d322e6",
   "metadata": {},
   "outputs": [],
   "source": [
    "from tensorflow.keras.models import Sequential\n",
    "from tensorflow.keras.layers import Dense,Input\n",
    "from tensorflow.keras.layers import SimpleRNN\n",
    "from tensorflow.keras.layers import Dropout"
   ]
  },
  {
   "cell_type": "code",
   "execution_count": 16,
   "id": "aa25cb5d-00eb-4f46-812a-6e9347619faf",
   "metadata": {},
   "outputs": [],
   "source": [
    "model = Sequential()\n",
    "model.add(Input(shape=(24,1)))\n",
    "model.add(Dense(80,activation='tanh'))\n",
    "model.add(Dense(60,activation='tanh'))\n",
    "model.add(Dense(40,activation='relu'))\n",
    "model.add(Dense(10,activation='relu'))\n",
    "model.add(Dense(1,activation='sigmoid'))"
   ]
  },
  {
   "cell_type": "code",
   "execution_count": 17,
   "id": "70eb8e09-a210-4be5-972a-4f089690ce68",
   "metadata": {},
   "outputs": [],
   "source": [
    "from tensorflow.keras import optimizers"
   ]
  },
  {
   "cell_type": "code",
   "execution_count": 18,
   "id": "5c906b5b-e2f7-427c-95f8-c3504ad32f1f",
   "metadata": {},
   "outputs": [],
   "source": [
    "model.compile(optimizer=optimizers.Adam(0.01), loss='binary_crossentropy',metrics=['accuracy'])"
   ]
  },
  {
   "cell_type": "code",
   "execution_count": 19,
   "id": "a253e44c-d047-473d-9f9b-9cad627652ed",
   "metadata": {},
   "outputs": [
    {
     "name": "stdout",
     "output_type": "stream",
     "text": [
      "Epoch 1/100\n",
      "72/72 [==============================] - 0s 972us/step - loss: 0.7265 - accuracy: 0.5561\n",
      "Epoch 2/100\n",
      "72/72 [==============================] - 0s 777us/step - loss: 0.7112 - accuracy: 0.4525\n",
      "Epoch 3/100\n",
      "72/72 [==============================] - 0s 667us/step - loss: 0.6949 - accuracy: 0.3872\n",
      "Epoch 4/100\n",
      "72/72 [==============================] - 0s 556us/step - loss: 0.6941 - accuracy: 0.5000\n",
      "Epoch 5/100\n",
      "72/72 [==============================] - 0s 653us/step - loss: 0.6943 - accuracy: 0.4306\n",
      "Epoch 6/100\n",
      "72/72 [==============================] - 0s 556us/step - loss: 0.6948 - accuracy: 0.3056\n",
      "Epoch 7/100\n",
      "72/72 [==============================] - 0s 1ms/step - loss: 0.6970 - accuracy: 0.4306\n",
      "Epoch 8/100\n",
      "72/72 [==============================] - 0s 667us/step - loss: 0.6942 - accuracy: 0.4861\n",
      "Epoch 9/100\n",
      "72/72 [==============================] - 0s 639us/step - loss: 0.6946 - accuracy: 0.5000\n",
      "Epoch 10/100\n",
      "72/72 [==============================] - 0s 639us/step - loss: 0.6964 - accuracy: 0.4583\n",
      "Epoch 11/100\n",
      "72/72 [==============================] - 0s 792us/step - loss: 0.6957 - accuracy: 0.4167\n",
      "Epoch 12/100\n",
      "72/72 [==============================] - 0s 861us/step - loss: 0.6952 - accuracy: 0.4306\n",
      "Epoch 13/100\n",
      "72/72 [==============================] - 0s 1ms/step - loss: 0.6948 - accuracy: 0.4306\n",
      "Epoch 14/100\n",
      "72/72 [==============================] - 0s 611us/step - loss: 0.6966 - accuracy: 0.4444\n",
      "Epoch 15/100\n",
      "72/72 [==============================] - 0s 597us/step - loss: 0.6935 - accuracy: 0.5000\n",
      "Epoch 16/100\n",
      "72/72 [==============================] - 0s 639us/step - loss: 0.6949 - accuracy: 0.3194\n",
      "Epoch 17/100\n",
      "72/72 [==============================] - 0s 666us/step - loss: 0.6944 - accuracy: 0.5000\n",
      "Epoch 18/100\n",
      "72/72 [==============================] - 0s 611us/step - loss: 0.6952 - accuracy: 0.5000\n",
      "Epoch 19/100\n",
      "72/72 [==============================] - 0s 639us/step - loss: 0.6941 - accuracy: 0.4167\n",
      "Epoch 20/100\n",
      "72/72 [==============================] - 0s 1ms/step - loss: 0.6943 - accuracy: 0.4583\n",
      "Epoch 21/100\n",
      "72/72 [==============================] - 0s 597us/step - loss: 0.6950 - accuracy: 0.4306\n",
      "Epoch 22/100\n",
      "72/72 [==============================] - 0s 681us/step - loss: 0.6953 - accuracy: 0.4167\n",
      "Epoch 23/100\n",
      "72/72 [==============================] - 0s 806us/step - loss: 0.6960 - accuracy: 0.5000\n",
      "Epoch 24/100\n",
      "72/72 [==============================] - 0s 1ms/step - loss: 0.6944 - accuracy: 0.4306\n",
      "Epoch 25/100\n",
      "72/72 [==============================] - 0s 1ms/step - loss: 0.6965 - accuracy: 0.4444\n",
      "Epoch 26/100\n",
      "72/72 [==============================] - 0s 931us/step - loss: 0.6975 - accuracy: 0.4722\n",
      "Epoch 27/100\n",
      "72/72 [==============================] - 0s 2ms/step - loss: 0.6944 - accuracy: 0.4306\n",
      "Epoch 28/100\n",
      "72/72 [==============================] - 0s 1ms/step - loss: 0.6960 - accuracy: 0.4583\n",
      "Epoch 29/100\n",
      "72/72 [==============================] - 0s 1ms/step - loss: 0.6953 - accuracy: 0.4861\n",
      "Epoch 30/100\n",
      "72/72 [==============================] - 0s 917us/step - loss: 0.6946 - accuracy: 0.4444\n",
      "Epoch 31/100\n",
      "72/72 [==============================] - 0s 1ms/step - loss: 0.6981 - accuracy: 0.4722\n",
      "Epoch 32/100\n",
      "72/72 [==============================] - 0s 708us/step - loss: 0.6951 - accuracy: 0.4861\n",
      "Epoch 33/100\n",
      "72/72 [==============================] - 0s 778us/step - loss: 0.6957 - accuracy: 0.4306\n",
      "Epoch 34/100\n",
      "72/72 [==============================] - 0s 1ms/step - loss: 0.6949 - accuracy: 0.4444\n",
      "Epoch 35/100\n",
      "72/72 [==============================] - 0s 1ms/step - loss: 0.6955 - accuracy: 0.4583\n",
      "Epoch 36/100\n",
      "72/72 [==============================] - 0s 667us/step - loss: 0.6954 - accuracy: 0.4722\n",
      "Epoch 37/100\n",
      "72/72 [==============================] - 0s 722us/step - loss: 0.6949 - accuracy: 0.4722\n",
      "Epoch 38/100\n",
      "72/72 [==============================] - 0s 694us/step - loss: 0.6944 - accuracy: 0.4722\n",
      "Epoch 39/100\n",
      "72/72 [==============================] - 0s 903us/step - loss: 0.6951 - accuracy: 0.5000\n",
      "Epoch 40/100\n",
      "72/72 [==============================] - 0s 1ms/step - loss: 0.6948 - accuracy: 0.4306\n",
      "Epoch 41/100\n",
      "72/72 [==============================] - 0s 1ms/step - loss: 0.6948 - accuracy: 0.4583\n",
      "Epoch 42/100\n",
      "72/72 [==============================] - 0s 778us/step - loss: 0.6948 - accuracy: 0.5000\n",
      "Epoch 43/100\n",
      "72/72 [==============================] - 0s 931us/step - loss: 0.6947 - accuracy: 0.4306\n",
      "Epoch 44/100\n",
      "72/72 [==============================] - 0s 736us/step - loss: 0.6960 - accuracy: 0.4444\n",
      "Epoch 45/100\n",
      "72/72 [==============================] - 0s 1ms/step - loss: 0.6946 - accuracy: 0.5000\n",
      "Epoch 46/100\n",
      "72/72 [==============================] - 0s 1ms/step - loss: 0.6946 - accuracy: 0.4306\n",
      "Epoch 47/100\n",
      "72/72 [==============================] - 0s 1ms/step - loss: 0.6954 - accuracy: 0.5000\n",
      "Epoch 48/100\n",
      "72/72 [==============================] - 0s 2ms/step - loss: 0.6950 - accuracy: 0.4028\n",
      "Epoch 49/100\n",
      "72/72 [==============================] - 0s 1ms/step - loss: 0.6941 - accuracy: 0.5000\n",
      "Epoch 50/100\n",
      "72/72 [==============================] - 0s 3ms/step - loss: 0.6969 - accuracy: 0.5000\n",
      "Epoch 51/100\n",
      "72/72 [==============================] - 0s 1ms/step - loss: 0.6934 - accuracy: 0.4861\n",
      "Epoch 52/100\n",
      "72/72 [==============================] - 0s 1ms/step - loss: 0.6948 - accuracy: 0.4167\n",
      "Epoch 53/100\n",
      "72/72 [==============================] - 0s 819us/step - loss: 0.6952 - accuracy: 0.3611\n",
      "Epoch 54/100\n",
      "72/72 [==============================] - 0s 1ms/step - loss: 0.6957 - accuracy: 0.5139\n",
      "Epoch 55/100\n",
      "72/72 [==============================] - 0s 1ms/step - loss: 0.6972 - accuracy: 0.5000\n",
      "Epoch 56/100\n",
      "72/72 [==============================] - 0s 972us/step - loss: 0.6952 - accuracy: 0.4306\n",
      "Epoch 57/100\n",
      "72/72 [==============================] - 0s 1ms/step - loss: 0.6938 - accuracy: 0.4722\n",
      "Epoch 58/100\n",
      "72/72 [==============================] - 0s 1ms/step - loss: 0.6945 - accuracy: 0.4306\n",
      "Epoch 59/100\n",
      "72/72 [==============================] - 0s 1ms/step - loss: 0.6953 - accuracy: 0.5000\n",
      "Epoch 60/100\n",
      "72/72 [==============================] - 0s 1ms/step - loss: 0.6978 - accuracy: 0.4306\n",
      "Epoch 61/100\n",
      "72/72 [==============================] - 0s 1ms/step - loss: 0.6936 - accuracy: 0.4722\n",
      "Epoch 62/100\n",
      "72/72 [==============================] - 0s 1ms/step - loss: 0.6944 - accuracy: 0.4444\n",
      "Epoch 63/100\n",
      "72/72 [==============================] - 0s 1ms/step - loss: 0.6943 - accuracy: 0.3889\n",
      "Epoch 64/100\n",
      "72/72 [==============================] - 0s 1ms/step - loss: 0.6944 - accuracy: 0.4583\n",
      "Epoch 65/100\n",
      "72/72 [==============================] - 0s 1ms/step - loss: 0.6955 - accuracy: 0.4583\n",
      "Epoch 66/100\n",
      "72/72 [==============================] - 0s 2ms/step - loss: 0.6949 - accuracy: 0.4583\n",
      "Epoch 67/100\n",
      "72/72 [==============================] - 0s 2ms/step - loss: 0.6946 - accuracy: 0.4167\n",
      "Epoch 68/100\n",
      "72/72 [==============================] - 0s 1ms/step - loss: 0.6972 - accuracy: 0.5000\n",
      "Epoch 69/100\n",
      "72/72 [==============================] - 0s 847us/step - loss: 0.6987 - accuracy: 0.5000\n",
      "Epoch 70/100\n",
      "72/72 [==============================] - 0s 1ms/step - loss: 0.6946 - accuracy: 0.4444\n",
      "Epoch 71/100\n",
      "72/72 [==============================] - 0s 1ms/step - loss: 0.6951 - accuracy: 0.4306\n",
      "Epoch 72/100\n",
      "72/72 [==============================] - 0s 806us/step - loss: 0.6961 - accuracy: 0.4444\n",
      "Epoch 73/100\n",
      "72/72 [==============================] - 0s 1ms/step - loss: 0.6951 - accuracy: 0.4306\n",
      "Epoch 74/100\n",
      "72/72 [==============================] - 0s 1ms/step - loss: 0.6945 - accuracy: 0.4722\n",
      "Epoch 75/100\n",
      "72/72 [==============================] - 0s 1000us/step - loss: 0.6950 - accuracy: 0.3611\n",
      "Epoch 76/100\n",
      "72/72 [==============================] - 0s 792us/step - loss: 0.6949 - accuracy: 0.4722\n",
      "Epoch 77/100\n",
      "72/72 [==============================] - 0s 944us/step - loss: 0.6944 - accuracy: 0.4444\n",
      "Epoch 78/100\n",
      "72/72 [==============================] - 0s 847us/step - loss: 0.6949 - accuracy: 0.4306\n",
      "Epoch 79/100\n",
      "72/72 [==============================] - 0s 1ms/step - loss: 0.6946 - accuracy: 0.3750 ETA: 0s - loss: 0.6948 - accuracy: 0.3673  \n",
      "Epoch 80/100\n",
      "72/72 [==============================] - 0s 1ms/step - loss: 0.6946 - accuracy: 0.4306\n",
      "Epoch 81/100\n",
      "72/72 [==============================] - 0s 1ms/step - loss: 0.6951 - accuracy: 0.4167\n",
      "Epoch 82/100\n",
      "72/72 [==============================] - 0s 1ms/step - loss: 0.6946 - accuracy: 0.5000\n",
      "Epoch 83/100\n",
      "72/72 [==============================] - 0s 931us/step - loss: 0.6949 - accuracy: 0.4444\n",
      "Epoch 84/100\n",
      "72/72 [==============================] - 0s 1ms/step - loss: 0.6948 - accuracy: 0.4028\n",
      "Epoch 85/100\n",
      "72/72 [==============================] - 0s 2ms/step - loss: 0.6953 - accuracy: 0.4861\n",
      "Epoch 86/100\n",
      "72/72 [==============================] - 0s 1ms/step - loss: 0.6944 - accuracy: 0.4167\n",
      "Epoch 87/100\n",
      "72/72 [==============================] - 0s 1ms/step - loss: 0.6943 - accuracy: 0.4306\n",
      "Epoch 88/100\n",
      "72/72 [==============================] - 0s 1ms/step - loss: 0.6946 - accuracy: 0.4028\n",
      "Epoch 89/100\n",
      "72/72 [==============================] - 0s 2ms/step - loss: 0.6947 - accuracy: 0.5000\n",
      "Epoch 90/100\n",
      "72/72 [==============================] - 0s 2ms/step - loss: 0.6953 - accuracy: 0.4722\n",
      "Epoch 91/100\n",
      "72/72 [==============================] - 0s 2ms/step - loss: 0.6944 - accuracy: 0.4167\n",
      "Epoch 92/100\n",
      "72/72 [==============================] - 0s 931us/step - loss: 0.6970 - accuracy: 0.4306\n",
      "Epoch 93/100\n",
      "72/72 [==============================] - 0s 847us/step - loss: 0.6944 - accuracy: 0.5000\n",
      "Epoch 94/100\n",
      "72/72 [==============================] - 0s 972us/step - loss: 0.6948 - accuracy: 0.5000\n",
      "Epoch 95/100\n",
      "72/72 [==============================] - 0s 2ms/step - loss: 0.6944 - accuracy: 0.2778\n",
      "Epoch 96/100\n",
      "72/72 [==============================] - ETA: 0s - loss: 0.6939 - accuracy: 0.3500   - 0s 1ms/step - loss: 0.6937 - accuracy: 0.4167\n",
      "Epoch 97/100\n",
      "72/72 [==============================] - 0s 917us/step - loss: 0.6939 - accuracy: 0.5000\n",
      "Epoch 98/100\n",
      "72/72 [==============================] - 0s 875us/step - loss: 0.6950 - accuracy: 0.4306\n",
      "Epoch 99/100\n",
      "72/72 [==============================] - 0s 847us/step - loss: 0.6942 - accuracy: 0.4306\n",
      "Epoch 100/100\n",
      "72/72 [==============================] - 0s 958us/step - loss: 0.6944 - accuracy: 0.4583\n"
     ]
    },
    {
     "data": {
      "text/plain": [
       "<tensorflow.python.keras.callbacks.History at 0x23c3496b460>"
      ]
     },
     "execution_count": 19,
     "metadata": {},
     "output_type": "execute_result"
    }
   ],
   "source": [
    "model.fit(X_train,ytrain,epochs=100,batch_size=1)"
   ]
  },
  {
   "cell_type": "code",
   "execution_count": 20,
   "id": "050a691b-bad3-4a35-bac0-050b89b6a71e",
   "metadata": {},
   "outputs": [
    {
     "name": "stdout",
     "output_type": "stream",
     "text": [
      "loss 0.6874743103981018\n",
      "accuracy 0.875\n"
     ]
    }
   ],
   "source": [
    "score = model.evaluate(xtest,ytest,verbose=0)\n",
    "print('loss',score[0])\n",
    "print('accuracy',score[1])"
   ]
  },
  {
   "cell_type": "code",
   "execution_count": 21,
   "id": "f1a54b2f-a6ec-4729-8d01-12fd951aa6ce",
   "metadata": {},
   "outputs": [],
   "source": [
    "from sklearn.metrics import classification_report,confusion_matrix,plot_roc_curve"
   ]
  },
  {
   "cell_type": "code",
   "execution_count": 22,
   "id": "c485f061-81ca-48c4-aa05-4f6b8ac15c66",
   "metadata": {},
   "outputs": [],
   "source": [
    "Y_pred = np.argmax(model.predict(xtest),axis=1)"
   ]
  },
  {
   "cell_type": "code",
   "execution_count": 23,
   "id": "fa964144-138c-426b-83af-21245c0d53f1",
   "metadata": {},
   "outputs": [
    {
     "name": "stdout",
     "output_type": "stream",
     "text": [
      "              precision    recall  f1-score   support\n",
      "\n",
      "           0       0.88      1.00      0.93        14\n",
      "           1       0.00      0.00      0.00         2\n",
      "\n",
      "    accuracy                           0.88        16\n",
      "   macro avg       0.44      0.50      0.47        16\n",
      "weighted avg       0.77      0.88      0.82        16\n",
      "\n"
     ]
    }
   ],
   "source": [
    "print(classification_report(ytest,Y_pred))"
   ]
  },
  {
   "cell_type": "code",
   "execution_count": 24,
   "id": "8e48b167-4673-4852-844e-2b30309ceb58",
   "metadata": {},
   "outputs": [],
   "source": [
    "import seaborn as sns\n",
    "import matplotlib.pyplot as plt"
   ]
  },
  {
   "cell_type": "code",
   "execution_count": 25,
   "id": "7f523bdb-694b-4002-990f-060936885f95",
   "metadata": {},
   "outputs": [
    {
     "data": {
      "text/plain": [
       "<AxesSubplot:>"
      ]
     },
     "execution_count": 25,
     "metadata": {},
     "output_type": "execute_result"
    },
    {
     "data": {
      "image/png": "[encoded data removed]",
      "text/plain": [
       "<Figure size 432x288 with 2 Axes>"
      ]
     },
     "metadata": {
      "needs_background": "light"
     },
     "output_type": "display_data"
    }
   ],
   "source": [
    "sns.heatmap(confusion_matrix(ytest,Y_pred),annot=True)"
   ]
  },
  {
   "cell_type": "code",
   "execution_count": 52,
   "id": "10b887bc-7bc1-497f-8818-1dcbd8176528",
   "metadata": {},
   "outputs": [],
   "source": [
    "fpr, tpr, thresholds = roc_curve(ytest, Y_pred)"
   ]
  },
  {
   "cell_type": "code",
   "execution_count": 55,
   "id": "0f8d9f12-8ac5-4ed8-9b68-26f35f47c029",
   "metadata": {},
   "outputs": [],
   "source": [
    "import sklearn.metrics as metrics\n",
    "roc_auc = metrics.auc(fpr, tpr)"
   ]
  },
  {
   "cell_type": "code",
   "execution_count": 56,
   "id": "a7b1cc17-8235-46fc-83fc-9a74a886c07b",
   "metadata": {},
   "outputs": [
    {
     "data": {
      "image/png": "[encoded data removed]",
      "text/plain": [
       "<Figure size 432x288 with 1 Axes>"
      ]
     },
     "metadata": {
      "needs_background": "light"
     },
     "output_type": "display_data"
    }
   ],
   "source": [
    "plt.title('Receiver Operating Characteristic')\n",
    "plt.plot(fpr, tpr, 'b', label = 'AUC = %0.2f' % roc_auc)\n",
    "plt.legend(loc = 'lower right')\n",
    "plt.plot([0, 1], [0, 1],'r--')\n",
    "plt.xlim([0, 1])\n",
    "plt.ylim([0, 1])\n",
    "plt.ylabel('True Positive Rate')\n",
    "plt.xlabel('False Positive Rate')\n",
    "plt.show()"
   ]
  },
  {
   "cell_type": "code",
   "execution_count": null,
   "id": "7eb6b668-f1c3-4c9b-84db-7a0f883204ff",
   "metadata": {},
   "outputs": [],
   "source": []
  }
 ],
 "metadata": {
  "kernelspec": {
   "display_name": "Python 3",
   "language": "python",
   "name": "python3"
  },
  "language_info": {
   "codemirror_mode": {
    "name": "ipython",
    "version": 3
   },
   "file_extension": ".py",
   "mimetype": "text/x-python",
   "name": "python",
   "nbconvert_exporter": "python",
   "pygments_lexer": "ipython3",
   "version": "3.8.8"
  }
 },
 "nbformat": 4,
 "nbformat_minor": 5
}
